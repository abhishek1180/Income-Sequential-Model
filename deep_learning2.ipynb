{
 "cells": [
  {
   "cell_type": "code",
   "execution_count": 1,
   "metadata": {},
   "outputs": [],
   "source": [
    "import tensorflow as tf"
   ]
  },
  {
   "cell_type": "code",
   "execution_count": 2,
   "metadata": {},
   "outputs": [],
   "source": [
    "import pandas as pd\n",
    "import matplotlib.pyplot as plt\n",
    "import numpy"
   ]
  },
  {
   "cell_type": "code",
   "execution_count": 3,
   "metadata": {
    "scrolled": true
   },
   "outputs": [
    {
     "name": "stdout",
     "output_type": "stream",
     "text": [
      "   compositeHourlyWages  age  yearsEducation  sex1M0F\n",
      "0                 21.38   58              10        1\n",
      "1                 25.15   42              16        1\n",
      "2                  8.57   31              12        0\n",
      "3                 12.07   43              13        0\n",
      "4                 10.97   46              12        0 \n",
      " (3197, 4)\n"
     ]
    }
   ],
   "source": [
    "path=source_file\n",
    "train_df=pd.read_csv(path)\n",
    "print(train_df.head(),'\\n',train_df.shape)"
   ]
  },
  {
   "cell_type": "code",
   "execution_count": 4,
   "metadata": {},
   "outputs": [
    {
     "data": {
      "text/html": [
       "<div>\n",
       "<style scoped>\n",
       "    .dataframe tbody tr th:only-of-type {\n",
       "        vertical-align: middle;\n",
       "    }\n",
       "\n",
       "    .dataframe tbody tr th {\n",
       "        vertical-align: top;\n",
       "    }\n",
       "\n",
       "    .dataframe thead th {\n",
       "        text-align: right;\n",
       "    }\n",
       "</style>\n",
       "<table border=\"1\" class=\"dataframe\">\n",
       "  <thead>\n",
       "    <tr style=\"text-align: right;\">\n",
       "      <th></th>\n",
       "      <th>age</th>\n",
       "      <th>yearsEducation</th>\n",
       "      <th>sex1M0F</th>\n",
       "    </tr>\n",
       "  </thead>\n",
       "  <tbody>\n",
       "    <tr>\n",
       "      <th>0</th>\n",
       "      <td>58</td>\n",
       "      <td>10</td>\n",
       "      <td>1</td>\n",
       "    </tr>\n",
       "    <tr>\n",
       "      <th>1</th>\n",
       "      <td>42</td>\n",
       "      <td>16</td>\n",
       "      <td>1</td>\n",
       "    </tr>\n",
       "    <tr>\n",
       "      <th>2</th>\n",
       "      <td>31</td>\n",
       "      <td>12</td>\n",
       "      <td>0</td>\n",
       "    </tr>\n",
       "    <tr>\n",
       "      <th>3</th>\n",
       "      <td>43</td>\n",
       "      <td>13</td>\n",
       "      <td>0</td>\n",
       "    </tr>\n",
       "    <tr>\n",
       "      <th>4</th>\n",
       "      <td>46</td>\n",
       "      <td>12</td>\n",
       "      <td>0</td>\n",
       "    </tr>\n",
       "  </tbody>\n",
       "</table>\n",
       "</div>"
      ],
      "text/plain": [
       "   age  yearsEducation  sex1M0F\n",
       "0   58              10        1\n",
       "1   42              16        1\n",
       "2   31              12        0\n",
       "3   43              13        0\n",
       "4   46              12        0"
      ]
     },
     "execution_count": 4,
     "metadata": {},
     "output_type": "execute_result"
    }
   ],
   "source": [
    "train_x=train_df.drop(['compositeHourlyWages'],axis=1)\n",
    "train_x.head()"
   ]
  },
  {
   "cell_type": "code",
   "execution_count": 5,
   "metadata": {
    "scrolled": true
   },
   "outputs": [
    {
     "data": {
      "text/plain": [
       "pandas.core.frame.DataFrame"
      ]
     },
     "execution_count": 5,
     "metadata": {},
     "output_type": "execute_result"
    }
   ],
   "source": [
    "train_y=train_df[['compositeHourlyWages']]\n",
    "type(train_y)"
   ]
  },
  {
   "cell_type": "code",
   "execution_count": 12,
   "metadata": {},
   "outputs": [],
   "source": [
    "from tensorflow.keras.models import Sequential\n",
    "from tensorflow.keras.layers import Dense\n",
    "# create the model\n",
    "model=Sequential()\n",
    "n_cols=train_x.shape[1]\n",
    "model.add(Dense(10,activation='relu',input_shape=(n_cols,)))\n",
    "model.add(Dense(10,activation='relu'))\n",
    "model.add(Dense(1))\n",
    "# comile the mdoel\n",
    "model.compile(optimizer='adam',loss='mean_squared_error',metrics=['accuracy'])"
   ]
  },
  {
   "cell_type": "code",
   "execution_count": 14,
   "metadata": {
    "scrolled": true
   },
   "outputs": [
    {
     "name": "stdout",
     "output_type": "stream",
     "text": [
      "WARNING:tensorflow:Falling back from v2 loop because of error: Failed to find data adapter that can handle input: <class 'pandas.core.frame.DataFrame'>, <class 'NoneType'>\n",
      "Train on 2557 samples, validate on 640 samples\n",
      "Epoch 1/30\n",
      "2557/2557 [==============================] - 0s 42us/sample - loss: 41.1419 - accuracy: 0.0000e+00 - val_loss: 37.0346 - val_accuracy: 0.0000e+00\n",
      "Epoch 2/30\n",
      "2557/2557 [==============================] - 0s 43us/sample - loss: 40.9567 - accuracy: 0.0000e+00 - val_loss: 36.8873 - val_accuracy: 0.0000e+00\n",
      "Epoch 3/30\n",
      "2557/2557 [==============================] - 0s 43us/sample - loss: 41.0865 - accuracy: 0.0000e+00 - val_loss: 36.9573 - val_accuracy: 0.0000e+00\n",
      "Epoch 4/30\n",
      "2557/2557 [==============================] - 0s 42us/sample - loss: 40.8903 - accuracy: 0.0000e+00 - val_loss: 36.9615 - val_accuracy: 0.0000e+00\n",
      "Epoch 5/30\n",
      "2557/2557 [==============================] - 0s 41us/sample - loss: 40.8994 - accuracy: 0.0000e+00 - val_loss: 36.7368 - val_accuracy: 0.0000e+00\n",
      "Epoch 6/30\n",
      "2557/2557 [==============================] - 0s 42us/sample - loss: 40.8301 - accuracy: 0.0000e+00 - val_loss: 36.9893 - val_accuracy: 0.0000e+00\n",
      "Epoch 7/30\n",
      "2557/2557 [==============================] - 0s 42us/sample - loss: 40.9369 - accuracy: 0.0000e+00 - val_loss: 38.6232 - val_accuracy: 0.0000e+00\n",
      "Epoch 8/30\n",
      "2557/2557 [==============================] - 0s 41us/sample - loss: 41.0893 - accuracy: 0.0000e+00 - val_loss: 36.7420 - val_accuracy: 0.0000e+00\n",
      "Epoch 9/30\n",
      "2557/2557 [==============================] - 0s 39us/sample - loss: 40.8813 - accuracy: 0.0000e+00 - val_loss: 36.6287 - val_accuracy: 0.0000e+00\n",
      "Epoch 10/30\n",
      "2557/2557 [==============================] - 0s 43us/sample - loss: 40.7861 - accuracy: 0.0000e+00 - val_loss: 36.5546 - val_accuracy: 0.0000e+00\n",
      "Epoch 11/30\n",
      "2557/2557 [==============================] - 0s 41us/sample - loss: 40.7018 - accuracy: 0.0000e+00 - val_loss: 37.0685 - val_accuracy: 0.0000e+00\n",
      "Epoch 12/30\n",
      "2557/2557 [==============================] - 0s 42us/sample - loss: 40.6760 - accuracy: 0.0000e+00 - val_loss: 36.6158 - val_accuracy: 0.0000e+00\n",
      "Epoch 13/30\n",
      "2557/2557 [==============================] - 0s 40us/sample - loss: 40.7279 - accuracy: 0.0000e+00 - val_loss: 36.6488 - val_accuracy: 0.0000e+00\n",
      "Epoch 14/30\n",
      "2557/2557 [==============================] - 0s 43us/sample - loss: 40.6543 - accuracy: 0.0000e+00 - val_loss: 36.5671 - val_accuracy: 0.0000e+00\n",
      "Epoch 15/30\n",
      "2557/2557 [==============================] - 0s 39us/sample - loss: 40.9654 - accuracy: 0.0000e+00 - val_loss: 36.4473 - val_accuracy: 0.0000e+00\n",
      "Epoch 16/30\n",
      "2557/2557 [==============================] - 0s 39us/sample - loss: 40.5590 - accuracy: 0.0000e+00 - val_loss: 36.6795 - val_accuracy: 0.0000e+00\n",
      "Epoch 17/30\n",
      "2557/2557 [==============================] - 0s 42us/sample - loss: 40.7002 - accuracy: 0.0000e+00 - val_loss: 36.4607 - val_accuracy: 0.0000e+00\n",
      "Epoch 18/30\n",
      "2557/2557 [==============================] - 0s 42us/sample - loss: 40.5119 - accuracy: 0.0000e+00 - val_loss: 36.3827 - val_accuracy: 0.0000e+00\n",
      "Epoch 19/30\n",
      "2557/2557 [==============================] - 0s 41us/sample - loss: 40.5778 - accuracy: 0.0000e+00 - val_loss: 36.4169 - val_accuracy: 0.0000e+00\n",
      "Epoch 20/30\n",
      "2557/2557 [==============================] - 0s 42us/sample - loss: 40.5012 - accuracy: 0.0000e+00 - val_loss: 36.3683 - val_accuracy: 0.0000e+00\n",
      "Epoch 21/30\n",
      "2557/2557 [==============================] - 0s 41us/sample - loss: 40.4614 - accuracy: 0.0000e+00 - val_loss: 36.3491 - val_accuracy: 0.0000e+00\n",
      "Epoch 22/30\n",
      "2557/2557 [==============================] - 0s 39us/sample - loss: 40.7746 - accuracy: 0.0000e+00 - val_loss: 36.3118 - val_accuracy: 0.0000e+00\n",
      "Epoch 23/30\n",
      "2557/2557 [==============================] - 0s 42us/sample - loss: 40.6362 - accuracy: 0.0000e+00 - val_loss: 36.4975 - val_accuracy: 0.0000e+00\n",
      "Epoch 24/30\n",
      "2557/2557 [==============================] - 0s 40us/sample - loss: 40.3637 - accuracy: 0.0000e+00 - val_loss: 37.0166 - val_accuracy: 0.0000e+00\n",
      "Epoch 25/30\n",
      "2557/2557 [==============================] - 0s 43us/sample - loss: 40.4799 - accuracy: 0.0000e+00 - val_loss: 36.4078 - val_accuracy: 0.0000e+00\n",
      "Epoch 26/30\n",
      "2557/2557 [==============================] - 0s 40us/sample - loss: 40.6338 - accuracy: 0.0000e+00 - val_loss: 36.2499 - val_accuracy: 0.0000e+00\n",
      "Epoch 27/30\n",
      "2557/2557 [==============================] - 0s 40us/sample - loss: 40.4173 - accuracy: 0.0000e+00 - val_loss: 36.8217 - val_accuracy: 0.0000e+00\n",
      "Epoch 28/30\n",
      "2557/2557 [==============================] - 0s 40us/sample - loss: 40.5995 - accuracy: 0.0000e+00 - val_loss: 36.9008 - val_accuracy: 0.0000e+00\n",
      "Epoch 29/30\n",
      "2557/2557 [==============================] - 0s 41us/sample - loss: 40.4945 - accuracy: 0.0000e+00 - val_loss: 36.2787 - val_accuracy: 0.0000e+00\n",
      "Epoch 30/30\n",
      "2557/2557 [==============================] - 0s 40us/sample - loss: 40.4318 - accuracy: 0.0000e+00 - val_loss: 36.3439 - val_accuracy: 0.0000e+00\n"
     ]
    },
    {
     "data": {
      "text/plain": [
       "<tensorflow.python.keras.callbacks.History at 0x604bec1248>"
      ]
     },
     "execution_count": 14,
     "metadata": {},
     "output_type": "execute_result"
    }
   ],
   "source": [
    "from tensorflow.keras.callbacks import EarlyStopping\n",
    "\n",
    "early_stopping_monitor=EarlyStopping(patience=8)\n",
    "model.fit(train_x,train_y,validation_split=0.2,epochs=30,callbacks=[early_stopping_monitor],verbose=1)\n"
   ]
  },
  {
   "cell_type": "code",
   "execution_count": 44,
   "metadata": {
    "scrolled": true
   },
   "outputs": [],
   "source": [
    "test_path=path=r'C:\\Users\\Abhishek\\Desktop\\data_file\\csv_file\\Income_testing.csv'\n",
    "test_df=pd.read_csv(test_path)\n",
    "test_x=test_df.drop(columns='ID')"
   ]
  },
  {
   "cell_type": "code",
   "execution_count": 43,
   "metadata": {},
   "outputs": [
    {
     "name": "stdout",
     "output_type": "stream",
     "text": [
      "WARNING:tensorflow:Falling back from v2 loop because of error: Failed to find data adapter that can handle input: <class 'pandas.core.frame.DataFrame'>, <class 'NoneType'>\n",
      "     age  yearsEducation  sex1M0F  compositeHourlyWages\n",
      "0     36              20        0             19.047880\n",
      "1     38              17        0             19.382895\n",
      "2     24              10        0             11.313522\n",
      "3     39              12        1             19.040461\n",
      "4     50              12        0             15.447387\n",
      "..   ...             ...      ...                   ...\n",
      "795   30              10        0             11.774680\n",
      "796   47              10        0             13.059997\n",
      "797   47              13        0             16.300856\n",
      "798   65               6        0             10.099769\n",
      "799   35              13        1             18.638594\n",
      "\n",
      "[800 rows x 4 columns]\n"
     ]
    }
   ],
   "source": [
    "predict_y=model.predict(test_x,verbose=0)\n",
    "print(test_x.join(pd.DataFrame(predict_y,columns=['compositeHourlyWages'])))"
   ]
  },
  {
   "cell_type": "code",
   "execution_count": 10,
   "metadata": {
    "scrolled": true
   },
   "outputs": [
    {
     "name": "stdout",
     "output_type": "stream",
     "text": [
      "Requirement already satisfied: livelossplot in c:\\users\\abhishek\\anaconda3\\envs\\chatbot\\lib\\site-packages (0.4.1)\n",
      "Requirement already satisfied: notebook in c:\\users\\abhishek\\anaconda3\\envs\\chatbot\\lib\\site-packages (from livelossplot) (6.0.2)\n",
      "Requirement already satisfied: matplotlib in c:\\users\\abhishek\\anaconda3\\envs\\chatbot\\lib\\site-packages (from livelossplot) (3.1.1)\n",
      "Requirement already satisfied: jupyter-client>=5.3.4 in c:\\users\\abhishek\\anaconda3\\envs\\chatbot\\lib\\site-packages (from notebook->livelossplot) (5.3.4)\n",
      "Requirement already satisfied: jupyter-core>=4.6.0 in c:\\users\\abhishek\\anaconda3\\envs\\chatbot\\lib\\site-packages (from notebook->livelossplot) (4.6.1)\n",
      "Requirement already satisfied: pyzmq>=17 in c:\\users\\abhishek\\anaconda3\\envs\\chatbot\\lib\\site-packages (from notebook->livelossplot) (18.1.0)\n",
      "Requirement already satisfied: traitlets>=4.2.1 in c:\\users\\abhishek\\anaconda3\\envs\\chatbot\\lib\\site-packages (from notebook->livelossplot) (4.3.3)\n",
      "Requirement already satisfied: ipython-genutils in c:\\users\\abhishek\\anaconda3\\envs\\chatbot\\lib\\site-packages (from notebook->livelossplot) (0.2.0)\n",
      "Requirement already satisfied: prometheus-client in c:\\users\\abhishek\\anaconda3\\envs\\chatbot\\lib\\site-packages (from notebook->livelossplot) (0.7.1)\n",
      "Requirement already satisfied: Send2Trash in c:\\users\\abhishek\\anaconda3\\envs\\chatbot\\lib\\site-packages (from notebook->livelossplot) (1.5.0)\n",
      "Requirement already satisfied: terminado>=0.8.1 in c:\\users\\abhishek\\anaconda3\\envs\\chatbot\\lib\\site-packages (from notebook->livelossplot) (0.8.3)\n",
      "Requirement already satisfied: ipykernel in c:\\users\\abhishek\\anaconda3\\envs\\chatbot\\lib\\site-packages (from notebook->livelossplot) (5.1.3)\n",
      "Requirement already satisfied: nbformat in c:\\users\\abhishek\\anaconda3\\envs\\chatbot\\lib\\site-packages (from notebook->livelossplot) (4.4.0)\n",
      "Requirement already satisfied: nbconvert in c:\\users\\abhishek\\anaconda3\\envs\\chatbot\\lib\\site-packages (from notebook->livelossplot) (5.6.1)\n",
      "Requirement already satisfied: jinja2 in c:\\users\\abhishek\\anaconda3\\envs\\chatbot\\lib\\site-packages (from notebook->livelossplot) (2.10.3)\n",
      "Requirement already satisfied: tornado>=5.0 in c:\\users\\abhishek\\anaconda3\\envs\\chatbot\\lib\\site-packages (from notebook->livelossplot) (6.0.3)\n",
      "Requirement already satisfied: cycler>=0.10 in c:\\users\\abhishek\\anaconda3\\envs\\chatbot\\lib\\site-packages (from matplotlib->livelossplot) (0.10.0)\n",
      "Requirement already satisfied: kiwisolver>=1.0.1 in c:\\users\\abhishek\\anaconda3\\envs\\chatbot\\lib\\site-packages (from matplotlib->livelossplot) (1.1.0)\n",
      "Requirement already satisfied: pyparsing!=2.0.4,!=2.1.2,!=2.1.6,>=2.0.1 in c:\\users\\abhishek\\anaconda3\\envs\\chatbot\\lib\\site-packages (from matplotlib->livelossplot) (2.4.5)\n",
      "Requirement already satisfied: python-dateutil>=2.1 in c:\\users\\abhishek\\anaconda3\\envs\\chatbot\\lib\\site-packages (from matplotlib->livelossplot) (2.8.1)\n",
      "Requirement already satisfied: numpy>=1.11 in c:\\users\\abhishek\\anaconda3\\envs\\chatbot\\lib\\site-packages (from matplotlib->livelossplot) (1.17.4)\n",
      "Requirement already satisfied: pywin32>=1.0; sys_platform == \"win32\" in c:\\users\\abhishek\\anaconda3\\envs\\chatbot\\lib\\site-packages (from jupyter-client>=5.3.4->notebook->livelossplot) (227)\n",
      "Requirement already satisfied: six in c:\\users\\abhishek\\anaconda3\\envs\\chatbot\\lib\\site-packages (from traitlets>=4.2.1->notebook->livelossplot) (1.13.0)\n",
      "Requirement already satisfied: decorator in c:\\users\\abhishek\\anaconda3\\envs\\chatbot\\lib\\site-packages (from traitlets>=4.2.1->notebook->livelossplot) (4.4.1)\n",
      "Requirement already satisfied: ipython>=5.0.0 in c:\\users\\abhishek\\anaconda3\\envs\\chatbot\\lib\\site-packages (from ipykernel->notebook->livelossplot) (7.10.2)\n",
      "Requirement already satisfied: jsonschema!=2.5.0,>=2.4 in c:\\users\\abhishek\\anaconda3\\envs\\chatbot\\lib\\site-packages (from nbformat->notebook->livelossplot) (3.2.0)\n",
      "Requirement already satisfied: entrypoints>=0.2.2 in c:\\users\\abhishek\\anaconda3\\envs\\chatbot\\lib\\site-packages (from nbconvert->notebook->livelossplot) (0.3)\n",
      "Requirement already satisfied: pandocfilters>=1.4.1 in c:\\users\\abhishek\\anaconda3\\envs\\chatbot\\lib\\site-packages (from nbconvert->notebook->livelossplot) (1.4.2)\n",
      "Requirement already satisfied: defusedxml in c:\\users\\abhishek\\anaconda3\\envs\\chatbot\\lib\\site-packages (from nbconvert->notebook->livelossplot) (0.6.0)\n",
      "Requirement already satisfied: pygments in c:\\users\\abhishek\\anaconda3\\envs\\chatbot\\lib\\site-packages (from nbconvert->notebook->livelossplot) (2.5.2)\n",
      "Requirement already satisfied: bleach in c:\\users\\abhishek\\anaconda3\\envs\\chatbot\\lib\\site-packages (from nbconvert->notebook->livelossplot) (3.1.0)\n",
      "Requirement already satisfied: mistune<2,>=0.8.1 in c:\\users\\abhishek\\anaconda3\\envs\\chatbot\\lib\\site-packages (from nbconvert->notebook->livelossplot) (0.8.4)\n",
      "Requirement already satisfied: testpath in c:\\users\\abhishek\\anaconda3\\envs\\chatbot\\lib\\site-packages (from nbconvert->notebook->livelossplot) (0.4.4)\n",
      "Requirement already satisfied: MarkupSafe>=0.23 in c:\\users\\abhishek\\anaconda3\\envs\\chatbot\\lib\\site-packages (from jinja2->notebook->livelossplot) (1.1.1)\n",
      "Requirement already satisfied: setuptools in c:\\users\\abhishek\\anaconda3\\envs\\chatbot\\lib\\site-packages (from kiwisolver>=1.0.1->matplotlib->livelossplot) (42.0.2.post20191203)\n",
      "Requirement already satisfied: jedi>=0.10 in c:\\users\\abhishek\\anaconda3\\envs\\chatbot\\lib\\site-packages (from ipython>=5.0.0->ipykernel->notebook->livelossplot) (0.15.1)\n",
      "Requirement already satisfied: colorama; sys_platform == \"win32\" in c:\\users\\abhishek\\anaconda3\\envs\\chatbot\\lib\\site-packages (from ipython>=5.0.0->ipykernel->notebook->livelossplot) (0.4.3)\n",
      "Requirement already satisfied: backcall in c:\\users\\abhishek\\anaconda3\\envs\\chatbot\\lib\\site-packages (from ipython>=5.0.0->ipykernel->notebook->livelossplot) (0.1.0)\n",
      "Requirement already satisfied: pickleshare in c:\\users\\abhishek\\anaconda3\\envs\\chatbot\\lib\\site-packages (from ipython>=5.0.0->ipykernel->notebook->livelossplot) (0.7.5)\n",
      "Requirement already satisfied: prompt-toolkit!=3.0.0,!=3.0.1,<3.1.0,>=2.0.0 in c:\\users\\abhishek\\anaconda3\\envs\\chatbot\\lib\\site-packages (from ipython>=5.0.0->ipykernel->notebook->livelossplot) (3.0.2)\n",
      "Requirement already satisfied: attrs>=17.4.0 in c:\\users\\abhishek\\anaconda3\\envs\\chatbot\\lib\\site-packages (from jsonschema!=2.5.0,>=2.4->nbformat->notebook->livelossplot) (19.3.0)\n",
      "Requirement already satisfied: importlib-metadata; python_version < \"3.8\" in c:\\users\\abhishek\\anaconda3\\envs\\chatbot\\lib\\site-packages (from jsonschema!=2.5.0,>=2.4->nbformat->notebook->livelossplot) (1.3.0)\n",
      "Requirement already satisfied: pyrsistent>=0.14.0 in c:\\users\\abhishek\\anaconda3\\envs\\chatbot\\lib\\site-packages (from jsonschema!=2.5.0,>=2.4->nbformat->notebook->livelossplot) (0.15.6)\n",
      "Requirement already satisfied: webencodings in c:\\users\\abhishek\\anaconda3\\envs\\chatbot\\lib\\site-packages (from bleach->nbconvert->notebook->livelossplot) (0.5.1)\n",
      "Requirement already satisfied: parso>=0.5.0 in c:\\users\\abhishek\\anaconda3\\envs\\chatbot\\lib\\site-packages (from jedi>=0.10->ipython>=5.0.0->ipykernel->notebook->livelossplot) (0.5.2)\n",
      "Requirement already satisfied: wcwidth in c:\\users\\abhishek\\anaconda3\\envs\\chatbot\\lib\\site-packages (from prompt-toolkit!=3.0.0,!=3.0.1,<3.1.0,>=2.0.0->ipython>=5.0.0->ipykernel->notebook->livelossplot) (0.1.7)\n",
      "Requirement already satisfied: zipp>=0.5 in c:\\users\\abhishek\\anaconda3\\envs\\chatbot\\lib\\site-packages (from importlib-metadata; python_version < \"3.8\"->jsonschema!=2.5.0,>=2.4->nbformat->notebook->livelossplot) (0.6.0)\n",
      "Requirement already satisfied: more-itertools in c:\\users\\abhishek\\anaconda3\\envs\\chatbot\\lib\\site-packages (from zipp>=0.5->importlib-metadata; python_version < \"3.8\"->jsonschema!=2.5.0,>=2.4->nbformat->notebook->livelossplot) (8.0.2)\n",
      "Note: you may need to restart the kernel to use updated packages.\n"
     ]
    }
   ],
   "source": [
    "pip install livelossplot"
   ]
  },
  {
   "cell_type": "markdown",
   "metadata": {},
   "source": [
    "## Increasing model capacity"
   ]
  },
  {
   "cell_type": "code",
   "execution_count": 16,
   "metadata": {
    "scrolled": true
   },
   "outputs": [
    {
     "data": {
      "image/png": "[encoded data removed]",
      "text/plain": [
       "<Figure size 864x576 with 2 Axes>"
      ]
     },
     "metadata": {
      "needs_background": "light"
     },
     "output_type": "display_data"
    },
    {
     "name": "stdout",
     "output_type": "stream",
     "text": [
      "Mean squared error (cost function):\n",
      "training   (min:   39.873, max:   71.150, cur:   39.873)\n",
      "validation (min:   36.072, max:   41.939, cur:   37.632)\n",
      "\n",
      "accuracy:\n",
      "training   (min:    0.000, max:    0.000, cur:    0.000)\n",
      "validation (min:    0.000, max:    0.000, cur:    0.000)\n"
     ]
    },
    {
     "data": {
      "text/plain": [
       "<tensorflow.python.keras.callbacks.History at 0x603ae54548>"
      ]
     },
     "execution_count": 16,
     "metadata": {},
     "output_type": "execute_result"
    }
   ],
   "source": [
    "from tensorflow.keras.models import Sequential\n",
    "from tensorflow.keras.layers import Dense\n",
    "# create the model\n",
    "new_model=Sequential()\n",
    "n_cols=train_x.shape[1]\n",
    "new_model.add(Dense(100,activation='relu',input_shape=(n_cols,)))\n",
    "new_model.add(Dense(100,activation='relu'))\n",
    "new_model.add(Dense(100,activation='relu'))\n",
    "new_model.add(Dense(1))\n",
    "# comile the mdoel\n",
    "new_model.compile(optimizer='adam',loss='mean_squared_error',metrics=['accuracy'])\n",
    "\n",
    "from livelossplot.tf_keras import PlotLossesCallback\n",
    "new_model.fit(train_x,\n",
    "              train_y,\n",
    "              validation_split=0.2,\n",
    "              epochs=30,\n",
    "              callbacks=[PlotLossesCallback()],\n",
    "              verbose=0)"
   ]
  },
  {
   "cell_type": "code",
   "execution_count": null,
   "metadata": {},
   "outputs": [],
   "source": []
  }
 ],
 "metadata": {
  "kernelspec": {
   "display_name": "Python 3",
   "language": "python",
   "name": "python3"
  },
  "language_info": {
   "codemirror_mode": {
    "name": "ipython",
    "version": 3
   },
   "file_extension": ".py",
   "mimetype": "text/x-python",
   "name": "python",
   "nbconvert_exporter": "python",
   "pygments_lexer": "ipython3",
   "version": "3.7.4"
  }
 },
 "nbformat": 4,
 "nbformat_minor": 2
}
